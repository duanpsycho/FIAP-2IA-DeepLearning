{
  "nbformat": 4,
  "nbformat_minor": 0,
  "metadata": {
    "colab": {
      "name": "6_RNN_SpamFilter.ipynb",
      "version": "0.3.2",
      "provenance": [],
      "collapsed_sections": []
    },
    "language_info": {
      "codemirror_mode": {
        "name": "ipython",
        "version": 3
      },
      "file_extension": ".py",
      "mimetype": "text/x-python",
      "name": "python",
      "nbconvert_exporter": "python",
      "pygments_lexer": "ipython3",
      "version": "3.6.3"
    },
    "kernelspec": {
      "display_name": "Python 3",
      "language": "python",
      "name": "python3"
    }
  },
  "cells": [
    {
      "metadata": {
        "id": "UH01YRlVNlaA",
        "colab_type": "text"
      },
      "cell_type": "markdown",
      "source": [
        "# Demo 6 (Bônus) - Recurrent Neural Networks usando Tensorflow\n",
        "\n",
        "### O presente script implementa uma RNN em TensorFlow para a predição de spam/nao spam em texto.\n",
        "\n",
        "Começamos carregando as bibliotecas necessárias e inicializando um gráfico de computação no TensorFlow."
      ]
    },
    {
      "metadata": {
        "id": "jZUz2q7pNlaB",
        "colab_type": "code",
        "colab": {}
      },
      "cell_type": "code",
      "source": [
        "import os\n",
        "import re\n",
        "import io\n",
        "import requests\n",
        "import numpy as np\n",
        "import matplotlib.pyplot as plt\n",
        "import tensorflow as tf\n",
        "from zipfile import ZipFile\n",
        "from tensorflow.python.framework import ops\n",
        "ops.reset_default_graph()\n",
        "\n",
        "# Iniciando um gráfico de computação\n",
        "\n",
        "sess = tf.Session()"
      ],
      "execution_count": 0,
      "outputs": []
    },
    {
      "metadata": {
        "id": "gUv8xhMnNlaE",
        "colab_type": "text"
      },
      "cell_type": "markdown",
      "source": [
        "### 1. Setando os parâmetros de nossa RNN"
      ]
    },
    {
      "metadata": {
        "id": "35c_MGQiNlaF",
        "colab_type": "code",
        "colab": {}
      },
      "cell_type": "code",
      "source": [
        "# Parâmetros de nossa RNN\n",
        "\n",
        "epochs = 50\n",
        "batch_size = 250\n",
        "max_sequence_length = 25\n",
        "rnn_size = 10\n",
        "embedding_size = 50\n",
        "min_word_frequency = 10\n",
        "learning_rate = 0.0005\n",
        "dropout_keep_prob = tf.placeholder(tf.float32)"
      ],
      "execution_count": 0,
      "outputs": []
    },
    {
      "metadata": {
        "id": "mqI1dxuCNlaH",
        "colab_type": "text"
      },
      "cell_type": "markdown",
      "source": [
        "### 2. Carregando os dados de treinamento (textos) quanto a SPAM\n",
        "\n",
        "Nós baixamos e salvamos os dados em seguida. Primeiro, verificamos se já o salvamos antes e carregamos localmente, se não, nós o carregamos da internet (repositório da UCI - http://archive.ics.uci.edu/ml/machine-learning-databases/00228/smsspamcollection.zip)."
      ]
    },
    {
      "metadata": {
        "id": "ESRF4rbiNlaI",
        "colab_type": "code",
        "colab": {}
      },
      "cell_type": "code",
      "source": [
        "# Download ou abertura de arquivos referentes a SPAM\n",
        "\n",
        "data_dir = 'temp'\n",
        "data_file = 'text_data.txt'\n",
        "if not os.path.exists(data_dir):\n",
        "    os.makedirs(data_dir)\n",
        "\n",
        "if not os.path.isfile(os.path.join(data_dir, data_file)):\n",
        "    zip_url = 'http://archive.ics.uci.edu/ml/machine-learning-databases/00228/smsspamcollection.zip'\n",
        "    r = requests.get(zip_url)\n",
        "    z = ZipFile(io.BytesIO(r.content))\n",
        "    file = z.read('SMSSpamCollection')\n",
        "    \n",
        "    # Formatando dados\n",
        "    \n",
        "    text_data = file.decode()\n",
        "    text_data = text_data.encode('ascii', errors='ignore')\n",
        "    text_data = text_data.decode().split('\\n')\n",
        "\n",
        "    # Salvando dados em arquivo texto\n",
        "    \n",
        "    with open(os.path.join(data_dir, data_file), 'w') as file_conn:\n",
        "        for text in text_data:\n",
        "            file_conn.write(\"{}\\n\".format(text))\n",
        "else:\n",
        "    \n",
        "    # Recuperando dados de acordo com arquivo texto\n",
        "    \n",
        "    text_data = []\n",
        "    with open(os.path.join(data_dir, data_file), 'r') as file_conn:\n",
        "        for row in file_conn:\n",
        "            text_data.append(row)\n",
        "    text_data = text_data[:-1]\n",
        "\n",
        "text_data = [x.split('\\t') for x in text_data if len(x) >= 1]\n",
        "[text_data_target, text_data_train] = [list(x) for x in zip(*text_data)]"
      ],
      "execution_count": 0,
      "outputs": []
    },
    {
      "metadata": {
        "id": "iRC4zBTwNlaJ",
        "colab_type": "text"
      },
      "cell_type": "markdown",
      "source": [
        "### 3. Processamento dos textos e criação de representações numéricas (palavras em índices)"
      ]
    },
    {
      "metadata": {
        "id": "wlZRXMiFNlaK",
        "colab_type": "code",
        "colab": {
          "base_uri": "https://localhost:8080/",
          "height": 309
        },
        "outputId": "323643a7-c11e-453e-9779-483ec2c005c2"
      },
      "cell_type": "code",
      "source": [
        "# Criando uma função de \"limpeza\"de texto\n",
        "\n",
        "def clean_text(text_string):\n",
        "    text_string = re.sub(r'([^\\s\\w]|_|[0-9])+', '', text_string)\n",
        "    text_string = \" \".join(text_string.split())\n",
        "    text_string = text_string.lower()\n",
        "    return text_string\n",
        "\n",
        "\n",
        "# Textos \"limpos\"\n",
        "\n",
        "text_data_train = [clean_text(x) for x in text_data_train]\n",
        "\n",
        "# Transformando textos em vetores numéricos\n",
        "\n",
        "vocab_processor = tf.contrib.learn.preprocessing.VocabularyProcessor(max_sequence_length,\n",
        "                                                                     min_frequency=min_word_frequency)\n",
        "text_processed = np.array(list(vocab_processor.fit_transform(text_data_train)))"
      ],
      "execution_count": 4,
      "outputs": [
        {
          "output_type": "stream",
          "text": [
            "\n",
            "WARNING: The TensorFlow contrib module will not be included in TensorFlow 2.0.\n",
            "For more information, please see:\n",
            "  * https://github.com/tensorflow/community/blob/master/rfcs/20180907-contrib-sunset.md\n",
            "  * https://github.com/tensorflow/addons\n",
            "If you depend on functionality not listed there, please file an issue.\n",
            "\n",
            "WARNING:tensorflow:From <ipython-input-4-52900158d660>:16: VocabularyProcessor.__init__ (from tensorflow.contrib.learn.python.learn.preprocessing.text) is deprecated and will be removed in a future version.\n",
            "Instructions for updating:\n",
            "Please use tensorflow/transform or tf.data.\n",
            "WARNING:tensorflow:From /usr/local/lib/python3.6/dist-packages/tensorflow/contrib/learn/python/learn/preprocessing/text.py:154: CategoricalVocabulary.__init__ (from tensorflow.contrib.learn.python.learn.preprocessing.categorical_vocabulary) is deprecated and will be removed in a future version.\n",
            "Instructions for updating:\n",
            "Please use tensorflow/transform or tf.data.\n",
            "WARNING:tensorflow:From /usr/local/lib/python3.6/dist-packages/tensorflow/contrib/learn/python/learn/preprocessing/text.py:170: tokenizer (from tensorflow.contrib.learn.python.learn.preprocessing.text) is deprecated and will be removed in a future version.\n",
            "Instructions for updating:\n",
            "Please use tensorflow/transform or tf.data.\n"
          ],
          "name": "stdout"
        }
      ]
    },
    {
      "metadata": {
        "id": "R_hRoFy-NlaM",
        "colab_type": "text"
      },
      "cell_type": "markdown",
      "source": [
        "### 4. Divisão dos dados em datasets de treino/teste (80/20%)"
      ]
    },
    {
      "metadata": {
        "id": "6zidxbGyNlaM",
        "colab_type": "code",
        "colab": {
          "base_uri": "https://localhost:8080/",
          "height": 51
        },
        "outputId": "b680dca0-cd50-4bf7-858e-ef86479c5f64"
      },
      "cell_type": "code",
      "source": [
        "# Dividindo nossos dados\n",
        "\n",
        "text_processed = np.array(text_processed)\n",
        "text_data_target = np.array([1 if x == 'ham' else 0 for x in text_data_target])\n",
        "shuffled_ix = np.random.permutation(np.arange(len(text_data_target)))\n",
        "x_shuffled = text_processed[shuffled_ix]\n",
        "y_shuffled = text_data_target[shuffled_ix]\n",
        "\n",
        "# Dividindo em datasets de treino/teste \n",
        "\n",
        "ix_cutoff = int(len(y_shuffled)*0.80)\n",
        "x_train, x_test = x_shuffled[:ix_cutoff], x_shuffled[ix_cutoff:]\n",
        "y_train, y_test = y_shuffled[:ix_cutoff], y_shuffled[ix_cutoff:]\n",
        "vocab_size = len(vocab_processor.vocabulary_)\n",
        "print(\"Tamanho do vocabulario: {:d}\".format(vocab_size))\n",
        "print(\"80-20 Divisao em Treino/Teste: {:d} -- {:d}\".format(len(y_train), len(y_test)))"
      ],
      "execution_count": 5,
      "outputs": [
        {
          "output_type": "stream",
          "text": [
            "Tamanho do vocabulario: 933\n",
            "80-20 Divisao em Treino/Teste: 4459 -- 1115\n"
          ],
          "name": "stdout"
        }
      ]
    },
    {
      "metadata": {
        "id": "59VJnLx_NlaQ",
        "colab_type": "text"
      },
      "cell_type": "markdown",
      "source": [
        "## 5. Definição de nosso modelo RNN\n",
        "\n",
        "Criamos os espaços reservados para os dados, as matrizes de incorporação de palavras (e as pesquisas de incorporação) e definimos o restante do modelo. \n",
        "\n",
        "O restante do modelo RNN criará uma célula RNN dinâmica (tipo RNN regular), que variará o número de RNNs necessários para o comprimento de entrada variável (quantidade diferente de palavras para textos de entrada) e, em seguida, será enviada para uma camada logística totalmente conectada tendo em vista prever spam ou nao-spam como saída."
      ]
    },
    {
      "metadata": {
        "id": "uS0zXPKtNlaQ",
        "colab_type": "code",
        "colab": {
          "base_uri": "https://localhost:8080/",
          "height": 221
        },
        "outputId": "9af8f9a8-db5f-4ace-85a7-5feb006906f1"
      },
      "cell_type": "code",
      "source": [
        "# Criar espaços reservados\n",
        "\n",
        "x_data = tf.placeholder(tf.int32, [None, max_sequence_length])\n",
        "y_output = tf.placeholder(tf.int32, [None])\n",
        "\n",
        "# Criar embedding\n",
        "\n",
        "embedding_mat = tf.Variable(tf.random_uniform([vocab_size, embedding_size], -1.0, 1.0))\n",
        "embedding_output = tf.nn.embedding_lookup(embedding_mat, x_data)\n",
        "\n",
        "# Definir a célula RNN\n",
        "# tensorflow change> = 1.0, o rnn é colocado no diretório tensorflow.contrib.\n",
        "\n",
        "if tf.__version__[0] >= '1':\n",
        "    cell = tf.contrib.rnn.BasicRNNCell(num_units=rnn_size)\n",
        "else:\n",
        "    cell = tf.nn.rnn_cell.BasicRNNCell(num_units=rnn_size)\n",
        "\n",
        "output, state = tf.nn.dynamic_rnn(cell, embedding_output, dtype=tf.float32)\n",
        "output = tf.nn.dropout(output, dropout_keep_prob)\n",
        "\n",
        "# Obter saída da sequência RNN\n",
        "\n",
        "output = tf.transpose(output, [1, 0, 2])\n",
        "last = tf.gather(output, int(output.get_shape()[0]) - 1)\n",
        "\n",
        "weight = tf.Variable(tf.truncated_normal([rnn_size, 2], stddev=0.1))\n",
        "bias = tf.Variable(tf.constant(0.1, shape=[2]))\n",
        "logits_out = tf.matmul(last, weight) + bias"
      ],
      "execution_count": 6,
      "outputs": [
        {
          "output_type": "stream",
          "text": [
            "WARNING:tensorflow:From /usr/local/lib/python3.6/dist-packages/tensorflow/python/framework/op_def_library.py:263: colocate_with (from tensorflow.python.framework.ops) is deprecated and will be removed in a future version.\n",
            "Instructions for updating:\n",
            "Colocations handled automatically by placer.\n",
            "WARNING:tensorflow:From <ipython-input-6-e69af7b4d5b3>:14: BasicRNNCell.__init__ (from tensorflow.python.ops.rnn_cell_impl) is deprecated and will be removed in a future version.\n",
            "Instructions for updating:\n",
            "This class is equivalent as tf.keras.layers.SimpleRNNCell, and will be replaced by that in Tensorflow 2.0.\n",
            "WARNING:tensorflow:From <ipython-input-6-e69af7b4d5b3>:18: dynamic_rnn (from tensorflow.python.ops.rnn) is deprecated and will be removed in a future version.\n",
            "Instructions for updating:\n",
            "Please use `keras.layers.RNN(cell)`, which is equivalent to this API\n",
            "WARNING:tensorflow:From <ipython-input-6-e69af7b4d5b3>:19: calling dropout (from tensorflow.python.ops.nn_ops) with keep_prob is deprecated and will be removed in a future version.\n",
            "Instructions for updating:\n",
            "Please use `rate` instead of `keep_prob`. Rate should be set to `rate = 1 - keep_prob`.\n"
          ],
          "name": "stdout"
        }
      ]
    },
    {
      "metadata": {
        "id": "XXmCSWubNlaS",
        "colab_type": "text"
      },
      "cell_type": "markdown",
      "source": [
        "## 6. Declarando a função de perda (entropia cruzada - softmax), uma função de precisão e função de otimização (RMSProp)."
      ]
    },
    {
      "metadata": {
        "id": "i27q_ewxNlaT",
        "colab_type": "code",
        "colab": {
          "base_uri": "https://localhost:8080/",
          "height": 102
        },
        "outputId": "926eb374-c7d5-4f61-e19d-6b2f2e372cf6"
      },
      "cell_type": "code",
      "source": [
        "# Função de perda\n",
        "\n",
        "losses = tf.nn.sparse_softmax_cross_entropy_with_logits(logits=logits_out, labels=y_output)\n",
        "loss = tf.reduce_mean(losses)\n",
        "\n",
        "accuracy = tf.reduce_mean(tf.cast(tf.equal(tf.argmax(logits_out, 1), tf.cast(y_output, tf.int64)), tf.float32))\n",
        "\n",
        "optimizer = tf.train.RMSPropOptimizer(learning_rate)\n",
        "train_step = optimizer.minimize(loss)"
      ],
      "execution_count": 7,
      "outputs": [
        {
          "output_type": "stream",
          "text": [
            "WARNING:tensorflow:From /usr/local/lib/python3.6/dist-packages/tensorflow/python/ops/array_grad.py:425: to_int32 (from tensorflow.python.ops.math_ops) is deprecated and will be removed in a future version.\n",
            "Instructions for updating:\n",
            "Use tf.cast instead.\n"
          ],
          "name": "stdout"
        },
        {
          "output_type": "stream",
          "text": [
            "/usr/local/lib/python3.6/dist-packages/tensorflow/python/ops/gradients_impl.py:110: UserWarning: Converting sparse IndexedSlices to a dense Tensor of unknown shape. This may consume a large amount of memory.\n",
            "  \"Converting sparse IndexedSlices to a dense Tensor of unknown shape. \"\n"
          ],
          "name": "stderr"
        }
      ]
    },
    {
      "metadata": {
        "id": "_pRR2KsENlaW",
        "colab_type": "text"
      },
      "cell_type": "markdown",
      "source": [
        "Em seguida, inicializamos as variáveis no gráfico computacional."
      ]
    },
    {
      "metadata": {
        "id": "IHqz-6YQNlaW",
        "colab_type": "code",
        "colab": {}
      },
      "cell_type": "code",
      "source": [
        "init = tf.global_variables_initializer()\n",
        "sess.run(init)\n",
        "\n",
        "train_loss = []\n",
        "test_loss = []\n",
        "train_accuracy = []\n",
        "test_accuracy = []"
      ],
      "execution_count": 0,
      "outputs": []
    },
    {
      "metadata": {
        "id": "Zqo4kcb0NlaZ",
        "colab_type": "text"
      },
      "cell_type": "markdown",
      "source": [
        "## 7. Etapa de treinamento"
      ]
    },
    {
      "metadata": {
        "id": "QM0Mh_DvNlaZ",
        "colab_type": "code",
        "colab": {
          "base_uri": "https://localhost:8080/",
          "height": 867
        },
        "outputId": "b0a17402-5f08-48ab-d214-2c46cb492dd6"
      },
      "cell_type": "code",
      "source": [
        "# Iniciando o treinamento\n",
        "\n",
        "for epoch in range(epochs):\n",
        "\n",
        "    # \"Embaralhando\"os dados de treinamento\n",
        "\n",
        "    shuffled_ix = np.random.permutation(np.arange(len(x_train)))\n",
        "    x_train = x_train[shuffled_ix]\n",
        "    y_train = y_train[shuffled_ix]\n",
        "    num_batches = int(len(x_train)/batch_size) + 1\n",
        "        \n",
        "    for i in range(num_batches):\n",
        "        \n",
        "        # Selecionando dados de treinamento\n",
        "        \n",
        "        min_ix = i * batch_size\n",
        "        max_ix = np.min([len(x_train), ((i+1) * batch_size)])\n",
        "        x_train_batch = x_train[min_ix:max_ix]\n",
        "        y_train_batch = y_train[min_ix:max_ix]\n",
        "        \n",
        "        # Executando etapa de treinamento\n",
        "        \n",
        "        train_dict = {x_data: x_train_batch, y_output: y_train_batch, dropout_keep_prob:0.5}\n",
        "        sess.run(train_step, feed_dict=train_dict)\n",
        "        \n",
        "    # Executando perda e acuracia para treinamento\n",
        "    \n",
        "    temp_train_loss, temp_train_acc = sess.run([loss, accuracy], feed_dict=train_dict)\n",
        "    train_loss.append(temp_train_loss)\n",
        "    train_accuracy.append(temp_train_acc)\n",
        "    \n",
        "    # Executando etapa de avaliacao (eval. step)\n",
        "    \n",
        "    test_dict = {x_data: x_test, y_output: y_test, dropout_keep_prob:1.0}\n",
        "    temp_test_loss, temp_test_acc = sess.run([loss, accuracy], feed_dict=test_dict)\n",
        "    test_loss.append(temp_test_loss)\n",
        "    test_accuracy.append(temp_test_acc)\n",
        "    \n",
        "    print('Epoca: {}, Perda Teste: {:.2}, Acuracia Teste: {:.2}'.format(epoch+1, temp_test_loss, temp_test_acc))"
      ],
      "execution_count": 9,
      "outputs": [
        {
          "output_type": "stream",
          "text": [
            "Epoca: 1, Perda Teste: 0.72, Acuracia Teste: 0.19\n",
            "Epoca: 2, Perda Teste: 0.7, Acuracia Teste: 0.19\n",
            "Epoca: 3, Perda Teste: 0.67, Acuracia Teste: 0.86\n",
            "Epoca: 4, Perda Teste: 0.63, Acuracia Teste: 0.85\n",
            "Epoca: 5, Perda Teste: 0.58, Acuracia Teste: 0.85\n",
            "Epoca: 6, Perda Teste: 0.53, Acuracia Teste: 0.84\n",
            "Epoca: 7, Perda Teste: 0.48, Acuracia Teste: 0.85\n",
            "Epoca: 8, Perda Teste: 0.45, Acuracia Teste: 0.84\n",
            "Epoca: 9, Perda Teste: 0.43, Acuracia Teste: 0.84\n",
            "Epoca: 10, Perda Teste: 0.41, Acuracia Teste: 0.84\n",
            "Epoca: 11, Perda Teste: 0.41, Acuracia Teste: 0.85\n",
            "Epoca: 12, Perda Teste: 0.4, Acuracia Teste: 0.85\n",
            "Epoca: 13, Perda Teste: 0.4, Acuracia Teste: 0.85\n",
            "Epoca: 14, Perda Teste: 0.39, Acuracia Teste: 0.86\n",
            "Epoca: 15, Perda Teste: 0.39, Acuracia Teste: 0.87\n",
            "Epoca: 16, Perda Teste: 0.39, Acuracia Teste: 0.87\n",
            "Epoca: 17, Perda Teste: 0.38, Acuracia Teste: 0.87\n",
            "Epoca: 18, Perda Teste: 0.38, Acuracia Teste: 0.87\n",
            "Epoca: 19, Perda Teste: 0.38, Acuracia Teste: 0.87\n",
            "Epoca: 20, Perda Teste: 0.37, Acuracia Teste: 0.87\n",
            "Epoca: 21, Perda Teste: 0.37, Acuracia Teste: 0.87\n",
            "Epoca: 22, Perda Teste: 0.36, Acuracia Teste: 0.87\n",
            "Epoca: 23, Perda Teste: 0.36, Acuracia Teste: 0.88\n",
            "Epoca: 24, Perda Teste: 0.35, Acuracia Teste: 0.88\n",
            "Epoca: 25, Perda Teste: 0.34, Acuracia Teste: 0.88\n",
            "Epoca: 26, Perda Teste: 0.32, Acuracia Teste: 0.88\n",
            "Epoca: 27, Perda Teste: 0.3, Acuracia Teste: 0.89\n",
            "Epoca: 28, Perda Teste: 0.28, Acuracia Teste: 0.89\n",
            "Epoca: 29, Perda Teste: 0.26, Acuracia Teste: 0.9\n",
            "Epoca: 30, Perda Teste: 0.25, Acuracia Teste: 0.92\n",
            "Epoca: 31, Perda Teste: 0.23, Acuracia Teste: 0.92\n",
            "Epoca: 32, Perda Teste: 0.21, Acuracia Teste: 0.92\n",
            "Epoca: 33, Perda Teste: 0.2, Acuracia Teste: 0.93\n",
            "Epoca: 34, Perda Teste: 0.22, Acuracia Teste: 0.9\n",
            "Epoca: 35, Perda Teste: 0.18, Acuracia Teste: 0.95\n",
            "Epoca: 36, Perda Teste: 0.18, Acuracia Teste: 0.95\n",
            "Epoca: 37, Perda Teste: 0.17, Acuracia Teste: 0.95\n",
            "Epoca: 38, Perda Teste: 0.16, Acuracia Teste: 0.95\n",
            "Epoca: 39, Perda Teste: 0.16, Acuracia Teste: 0.95\n",
            "Epoca: 40, Perda Teste: 0.15, Acuracia Teste: 0.95\n",
            "Epoca: 41, Perda Teste: 0.15, Acuracia Teste: 0.95\n",
            "Epoca: 42, Perda Teste: 0.14, Acuracia Teste: 0.95\n",
            "Epoca: 43, Perda Teste: 0.14, Acuracia Teste: 0.96\n",
            "Epoca: 44, Perda Teste: 0.14, Acuracia Teste: 0.96\n",
            "Epoca: 45, Perda Teste: 0.13, Acuracia Teste: 0.96\n",
            "Epoca: 46, Perda Teste: 0.13, Acuracia Teste: 0.96\n",
            "Epoca: 47, Perda Teste: 0.13, Acuracia Teste: 0.96\n",
            "Epoca: 48, Perda Teste: 0.14, Acuracia Teste: 0.95\n",
            "Epoca: 49, Perda Teste: 0.12, Acuracia Teste: 0.96\n",
            "Epoca: 50, Perda Teste: 0.16, Acuracia Teste: 0.95\n"
          ],
          "name": "stdout"
        }
      ]
    },
    {
      "metadata": {
        "id": "lUKyVK-DNlab",
        "colab_type": "text"
      },
      "cell_type": "markdown",
      "source": [
        "## 7. Plots de perdas e acuracia no tempo (geracoes)"
      ]
    },
    {
      "metadata": {
        "id": "KZzkymRoNlac",
        "colab_type": "code",
        "colab": {
          "base_uri": "https://localhost:8080/",
          "height": 573
        },
        "outputId": "b2b71e8b-e9c6-482e-cb84-e624ad264ac5"
      },
      "cell_type": "code",
      "source": [
        "%matplotlib inline\n",
        "\n",
        "# Plot de perdas no tempo\n",
        "\n",
        "epoch_seq = np.arange(1, epochs+1)\n",
        "plt.plot(epoch_seq, train_loss, 'k--', label='Dataset de Treinamento')\n",
        "plt.plot(epoch_seq, test_loss, 'r-', label='Dataset de Teste')\n",
        "plt.title('Perda Softmax')\n",
        "plt.xlabel('Epocas')\n",
        "plt.ylabel('Perda Softmax')\n",
        "plt.legend(loc='upper left')\n",
        "plt.show()\n",
        "\n",
        "# Plot ada acuracia no tempo\n",
        "\n",
        "plt.plot(epoch_seq, train_accuracy, 'k--', label='Dataset de Treinamento')\n",
        "plt.plot(epoch_seq, test_accuracy, 'r-', label='Dataset de Teste')\n",
        "plt.title('Acuracia de Teste')\n",
        "plt.xlabel('Epocas')\n",
        "plt.ylabel('Acuracia')\n",
        "plt.legend(loc='lower right')\n",
        "plt.show()"
      ],
      "execution_count": 10,
      "outputs": [
        {
          "output_type": "display_data",
          "data": {
            "image/png": "[encoded data removed]",
            "text/plain": [
              "<Figure size 432x288 with 1 Axes>"
            ]
          },
          "metadata": {
            "tags": []
          }
        },
        {
          "output_type": "display_data",
          "data": {
            "image/png": "[encoded data removed]",
            "text/plain": [
              "<Figure size 432x288 with 1 Axes>"
            ]
          },
          "metadata": {
            "tags": []
          }
        }
      ]
    },
    {
      "metadata": {
        "id": "MNm8PdTjNlaf",
        "colab_type": "text"
      },
      "cell_type": "markdown",
      "source": [
        "## 8. Avaliando novos textos (Modifique aqui com textos em inglês de spam/nao spam)\n",
        "\n",
        "Aqui pode-se utilizar o modelo treinado para avaliar novos textos (que podem ou não ser spam)"
      ]
    },
    {
      "metadata": {
        "id": "3ZcaGafSNlag",
        "colab_type": "code",
        "colab": {}
      },
      "cell_type": "code",
      "source": [
        "sample_texts = ['Hi, please respond 1111 asap to claim your change to win now!',\n",
        "                'Hey what are you doing for dinner tonight?',\n",
        "                'New offer, show this text for 50% off of our inagural sale!',\n",
        "                'Can you take the dog to the vet tomorrow?',\n",
        "                'Congratulations! You have been randomly selected to receive account credit! Call 555-666 right now!']"
      ],
      "execution_count": 0,
      "outputs": []
    },
    {
      "metadata": {
        "id": "6sIqkOlhNlah",
        "colab_type": "text"
      },
      "cell_type": "markdown",
      "source": [
        "Limpeza dos textos da amostra."
      ]
    },
    {
      "metadata": {
        "id": "tUCpyvCQNlai",
        "colab_type": "code",
        "colab": {
          "base_uri": "https://localhost:8080/",
          "height": 54
        },
        "outputId": "7538ffcd-4920-43fd-bfbe-6fb94ecc09f2"
      },
      "cell_type": "code",
      "source": [
        "clean_texts = [clean_text(text) for text in sample_texts]\n",
        "print(clean_texts)"
      ],
      "execution_count": 12,
      "outputs": [
        {
          "output_type": "stream",
          "text": [
            "['hi please respond asap to claim your change to win now', 'hey what are you doing for dinner tonight', 'new offer show this text for off of our inagural sale', 'can you take the dog to the vet tomorrow', 'congratulations you have been randomly selected to receive account credit call right now']\n"
          ],
          "name": "stdout"
        }
      ]
    },
    {
      "metadata": {
        "id": "86cyECHZNlal",
        "colab_type": "text"
      },
      "cell_type": "markdown",
      "source": [
        "Em seguida, transformamos cada texto como uma seqüência de palavras em uma sequência de índices de vocabulário."
      ]
    },
    {
      "metadata": {
        "id": "LLh3nm-WNlal",
        "colab_type": "code",
        "colab": {
          "base_uri": "https://localhost:8080/",
          "height": 187
        },
        "outputId": "f2d2c65f-7050-4bc8-ea52-265e60db70af"
      },
      "cell_type": "code",
      "source": [
        "processed_texts = np.array(list(vocab_processor.transform(clean_texts)))\n",
        "print(processed_texts)"
      ],
      "execution_count": 13,
      "outputs": [
        {
          "output_type": "stream",
          "text": [
            "[[ 93  99   0   0   1 114  13 524   1 178  21   0   0   0   0   0   0   0\n",
            "    0   0   0   0   0   0   0]\n",
            " [121  52  20   3 151  12 332 208   0   0   0   0   0   0   0   0   0   0\n",
            "    0   0   0   0   0   0   0]\n",
            " [ 92 376 483  39  69  12 203  15  86   0   0   0   0   0   0   0   0   0\n",
            "    0   0   0   0   0   0   0]\n",
            " [ 28   3 104   5   0   1   5   0 143   0   0   0   0   0   0   0   0   0\n",
            "    0   0   0   0   0   0   0]\n",
            " [701   3  17  98   0 420   1 318 301 738  16 139  21   0   0   0   0   0\n",
            "    0   0   0   0   0   0   0]]\n"
          ],
          "name": "stdout"
        }
      ]
    },
    {
      "metadata": {
        "id": "zZlwTRSpNlao",
        "colab_type": "text"
      },
      "cell_type": "markdown",
      "source": [
        "Agora podemos executar cada um dos textos através do nosso modelo e obter saída."
      ]
    },
    {
      "metadata": {
        "id": "2fC0GMQYNlap",
        "colab_type": "code",
        "colab": {
          "base_uri": "https://localhost:8080/",
          "height": 102
        },
        "outputId": "19176da2-6af2-4390-b4ec-b6ac0525664c"
      },
      "cell_type": "code",
      "source": [
        "eval_feed_dict = {x_data: processed_texts, dropout_keep_prob: 1.0}\n",
        "model_results = sess.run(tf.nn.softmax(logits_out), feed_dict=eval_feed_dict)\n",
        "\n",
        "print(model_results)"
      ],
      "execution_count": 14,
      "outputs": [
        {
          "output_type": "stream",
          "text": [
            "[[0.8883524  0.11164753]\n",
            " [0.01096874 0.98903126]\n",
            " [0.88630116 0.11369887]\n",
            " [0.01096584 0.9890342 ]\n",
            " [0.88968986 0.11031011]]\n"
          ],
          "name": "stdout"
        }
      ]
    },
    {
      "metadata": {
        "id": "t6MmJSiLNlas",
        "colab_type": "text"
      },
      "cell_type": "markdown",
      "source": [
        "Imprimindo resultados."
      ]
    },
    {
      "metadata": {
        "id": "6CBcIatYNlat",
        "colab_type": "code",
        "colab": {
          "base_uri": "https://localhost:8080/",
          "height": 272
        },
        "outputId": "d54cdd85-f4db-4a80-8063-0b3816b189fc"
      },
      "cell_type": "code",
      "source": [
        "categories = ['spam', 'nao spam']\n",
        "\n",
        "for ix, result in enumerate(model_results):\n",
        "    prediction = categories[np.argmax(result)]\n",
        "    \n",
        "    print('Texto: {}, \\nPredicao: {}\\n'.format(sample_texts[ix], prediction))"
      ],
      "execution_count": 15,
      "outputs": [
        {
          "output_type": "stream",
          "text": [
            "Texto: Hi, please respond 1111 asap to claim your change to win now!, \n",
            "Predicao: spam\n",
            "\n",
            "Texto: Hey what are you doing for dinner tonight?, \n",
            "Predicao: nao spam\n",
            "\n",
            "Texto: New offer, show this text for 50% off of our inagural sale!, \n",
            "Predicao: spam\n",
            "\n",
            "Texto: Can you take the dog to the vet tomorrow?, \n",
            "Predicao: nao spam\n",
            "\n",
            "Texto: Congratulations! You have been randomly selected to receive account credit! Call 555-666 right now!, \n",
            "Predicao: spam\n",
            "\n"
          ],
          "name": "stdout"
        }
      ]
    }
  ]
}